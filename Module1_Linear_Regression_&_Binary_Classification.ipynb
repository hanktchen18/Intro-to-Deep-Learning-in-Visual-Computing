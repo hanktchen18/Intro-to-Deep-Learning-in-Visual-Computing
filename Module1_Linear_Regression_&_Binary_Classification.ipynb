{
 "cells": [
  {
   "cell_type": "markdown",
   "id": "463b4ff6",
   "metadata": {},
   "source": [
    "# Linear Regression & Binary Classification\n",
    "\n",
    "We explored linear models the last lecture. We will strengthen this understanding by implementing linear and logistic regression models as part of the assignment."
   ]
  },
  {
   "cell_type": "markdown",
   "id": "cb959b17",
   "metadata": {},
   "source": [
    "# Section I - Linear Regression\n",
    "\n",
    "We will implement a linear regression model to fit a curve to some data. Since the data is nonlinear, we will implement polynomial regression and use ridge regression to implement the best possible fit."
   ]
  },
  {
   "cell_type": "markdown",
   "id": "30809a9b",
   "metadata": {},
   "source": [
    "## 1. Load Data and Visualize\n",
    "\n",
    "Let us load a dataset of points $(x,y)$. \n",
    "As a first step, let's import the required libraries followed by the dataset."
   ]
  },
  {
   "cell_type": "code",
   "execution_count": 1,
   "id": "powered-tennessee",
   "metadata": {},
   "outputs": [
    {
     "name": "stdout",
     "output_type": "stream",
     "text": [
      "train_X.shape is  (300, 1)\n",
      "train_Y.shape is  (300, 1)\n",
      "test_X.shape is  (200, 1)\n",
      "test_Y.shape is  (200, 1)\n"
     ]
    }
   ],
   "source": [
    "import numpy as np\n",
    "from datasets import ridge_reg_data\n",
    "\n",
    "# Libraries for evaluating the solution\n",
    "import pytest\n",
    "import numpy.testing as npt\n",
    "import random\n",
    "random.seed(1)\n",
    "np.random.seed(1)\n",
    "\n",
    "train_X, train_Y, test_X, test_Y = ridge_reg_data() # Pre-defined function for loading the dataset\n",
    "train_Y = train_Y.reshape(-1,1) # reshaping from (m,) -> (m,1)\n",
    "test_Y = test_Y.reshape(-1,1)\n",
    "print('train_X.shape is ', train_X.shape)\n",
    "print('train_Y.shape is ', train_Y.shape)\n",
    "print('test_X.shape is ', test_X.shape)\n",
    "print('test_Y.shape is ', test_Y.shape)"
   ]
  },
  {
   "cell_type": "markdown",
   "id": "88ac9cc4",
   "metadata": {},
   "source": [
    "### Visualize Data\n",
    "\n",
    "The dataset is split into train and test sets. The train set consists of 300 samples and the test set consists of 200 samples. We will use scatter plot to visualize the relationship between the '$x$' and '$y$'. Lets visualize the data using the scatter plot from [matplotlib](https://matplotlib.org/)."
   ]
  },
  {
   "cell_type": "code",
   "execution_count": 2,
   "id": "8f6a1d16",
   "metadata": {},
   "outputs": [
    {
     "data": {
      "image/png": "[encoded data removed]",
      "text/plain": [
       "<Figure size 640x480 with 1 Axes>"
      ]
     },
     "metadata": {},
     "output_type": "display_data"
    }
   ],
   "source": [
    "import matplotlib.pyplot as plt\n",
    "plt.scatter(train_X,train_Y,marker='o',s=10)\n",
    "plt.ylim(-2, 3)\n",
    "plt.xlabel('x')\n",
    "plt.ylabel('y')\n",
    "plt.savefig('graph1.png')"
   ]
  },
  {
   "cell_type": "markdown",
   "id": "3cfb1989",
   "metadata": {},
   "source": [
    "### Linear Regression - Polynomial Transformation\n",
    "\n",
    "Using the train data we hope to learn a relationship mapping $x$ to $y$. We can evaluate this mapping using the test data. Linear regression will try to fit a straight line (linear relation) mapping $x$ to $y$. However, we observe the $x$ and $y$ do not have a linear relationship. A straight line will not be a good fit. We need a non-linear mapping (curve) between $x$ and $y$. \n",
    "\n",
    "We discussed in the lecture that nonlinear regression can be achieved by transforming the scalar $x$ to a high dimension sample and performing linear regression with the transformed data. We can transform $x$ into a $d$ dimensional vector ($d \\geq 2$) in order to perform nonlinear regression. For example, $d = 5$ transforms $x$ into a $(d+1)$ dimension vector $[1,x,x^2,x^3,x^4,x^5]^\\top$, where $x^k$ is $x$ raised to $k$. In vectorized notation, the dataset $X$ is transformed to $\\Phi(X)$ of  dimension $m \\times (d+1)$, where $m$ is the number of samples. \n",
    "\n",
    "Every scalar $x$ is converted into a $(d+1)$ dimension vector, $[1,x_1,x_2,x_3,\\ldots,x_d]^\\top$. We can now perform linear regression in $(d+1)$ dimensions.\n",
    "\\begin{equation*}\n",
    "y = \\Phi(x)\\boldsymbol{\\theta} = \\theta_0 + x_1\\theta_1 + ... + x_{d-1}\\theta_{d-1} + x_d\\theta_d\\\\\n",
    "\\end{equation*}\n",
    "In the above equation, $y$ is the target variable, $\\boldsymbol{\\theta} = [\\theta_{0},.., \\theta_{d}]^\\top$ are the parameters/weights of the model, $\\Phi(x) = [1,x_{1},.., x_{d}]$ is the transformed data point in the row vector format, where $x_k$ is the $k^{th}$ component. \n",
    "    \n",
    "In the vectorized notation, the linear regression for $m$ samples is written as  $\\hat{Y} = \\Phi(X)\\boldsymbol{\\theta}$, where $\\Phi(X)$ has the data points as row vectors and is of dimensions $m \\times (d+1)$,\n",
    "\n",
    "\\begin{align}\n",
    "\\begin{bmatrix} \\hat{y}^{(1)} \\\\ \n",
    "\\hat{y}^{(2)}\\\\\n",
    "\\vdots\\\\ \n",
    "\\hat{y}^{(m)}\n",
    "\\end{bmatrix} = \n",
    "\\begin{bmatrix} 1 & x^{(1)}_1 & x^{(1)}_2  & \\ldots & x^{(1)}_d\\\\ \n",
    "1 & x^{(2)}_1 & x^{(2)}_2  & \\ldots & x^{(2)}_d\\\\  \n",
    "\\vdots & \\vdots & \\vdots & \\vdots & \\vdots\\\\ \n",
    "1 & x^{(m)}_1 & x^{(m)}_2  & \\ldots & x^{(m)}_d\\\\ \n",
    "\\end{bmatrix}\n",
    "\\begin{bmatrix} \\theta_0 \\\\ \n",
    "\\theta_1\\\\ \n",
    "\\vdots \\\\ \n",
    "\\theta_d\\\\ \n",
    "\\end{bmatrix}\n",
    "\\end{align}\n",
    "\n",
    "\n",
    "\n",
    "\n",
    "$X$ - is the Design matrix of dimension $m \\times (d+1) $, where $m$ is the number of samples and $d$ is the degree of the polynomial that we are trying to fit. The first column of 1's in the design matrix will account for the bias , resulting in $d+1$ dimensions <br>\n",
    "\n",
    "$Y$ - Vector of the prediction labels of dimension $m \\times 1 $.\n",
    "Lets implement a function to achieve this transformation."
   ]
  },
  {
   "cell_type": "code",
   "execution_count": 3,
   "id": "87ef780e",
   "metadata": {},
   "outputs": [],
   "source": [
    "def poly_transform(X,d):\n",
    "    '''\n",
    "    Function to transform scalar values into (d+1)-dimension vectors. \n",
    "    Each scalar value x is transformed a vector [1,x,x^2,x^3, ... x^d]. \n",
    "    \n",
    "    Inputs:\n",
    "        X: vector of m scalar inputs od shape (m, 1) where each row is a scalar input x\n",
    "        d: number of dimensions\n",
    "        \n",
    "    Outputs:\n",
    "        Phi: Transformed matrix of shape (m, (d+1)) \n",
    "    '''\n",
    "    Phi = np.ones((X.shape[0],1))\n",
    "    for i in range(1,d+1):\n",
    "        col = np.power(X,i)\n",
    "        Phi = np.hstack([Phi,col])\n",
    "    return Phi"
   ]
  },
  {
   "cell_type": "markdown",
   "id": "da5513ce",
   "metadata": {},
   "source": [
    "### Linear Regression - Objective Function (5 Points)\n",
    "\n",
    "Let us define the objective function that will be optimized by the linear regression model.\n",
    "    \\begin{equation*}\n",
    "    L\\big(\\Phi(X),Y,\\theta\\big) = \\big(Y-\\Phi(X)\\boldsymbol{\\theta}\\big)^\\top \\big(Y-\\Phi(X)\\boldsymbol{\\theta}\\big)\n",
    "    \\end{equation*}\n",
    "\n",
    "Here, $\\Phi(X)$ is the design matrix of dimensions (m \\times (d+1)) and $Y$ is the $m$ dimension vector of labels. \n",
    "$\\theta$ is the $(d+1)$ dimension vector of weight parameters.\n",
    " \n",
    "Hint: You may want to use [numpy.dot](https://docs.scipy.org/doc/numpy/reference/generated/numpy.dot.html) "
   ]
  },
  {
   "cell_type": "code",
   "execution_count": 4,
   "id": "14d5b3f1",
   "metadata": {},
   "outputs": [],
   "source": [
    "def lin_reg_obj(Y,Phi,theta):\n",
    "    '''\n",
    "    Objective function to estimate loss for the linear regression model.\n",
    "    Inputs:\n",
    "        Phi: Design matrix of dimensions (m, (d+1))\n",
    "        Y: ground truth labels of dimensions (m, 1)\n",
    "        theta: Parameters of linear regression of dimensions ((d+1),1)\n",
    "        \n",
    "    outputs:\n",
    "        loss: scalar loss \n",
    "    '''\n",
    "    # your code here\n",
    "    l1=(Y -np.matmul(Phi,theta)).T\n",
    "    l2= Y -np.matmul(Phi,theta)\n",
    "    loss = np.matmul(l1,l2)\n",
    "    # return loss\n",
    "    return loss"
   ]
  },
  {
   "cell_type": "code",
   "execution_count": 5,
   "id": "754092ce",
   "metadata": {},
   "outputs": [],
   "source": [
    "# Run this cell to test the function\n",
    "random.seed(1)\n",
    "np.random.seed(1)\n",
    "m1 = 10;\n",
    "d1 = 5;\n",
    "X_t = np.random.randn(m1,1)\n",
    "Y_t = np.random.randn(m1,1)\n",
    "theta_t = np.random.randn((d1+1),1)\n",
    "PHI_t = poly_transform(X_t,d1)\n",
    "loss_est = lin_reg_obj(Y_t,PHI_t,theta_t)"
   ]
  },
  {
   "cell_type": "markdown",
   "id": "ac76fda1",
   "metadata": {},
   "source": [
    "### Linear Regression - Closed Form Solution (10 Points)\n",
    "\n",
    "Let us define a closed form solution to the objective function. Feel free to revisit the lecture to review the topic.\n",
    "Closed form solution is given by,\n",
    "\n",
    "\\begin{equation*}\n",
    "\\theta = \\big(\\Phi(X)^\\top\\Phi(X)\\big)^{-1}\\Phi(X)^\\top Y\n",
    "\\end{equation*}\n",
    "\n",
    "Here $\\Phi(X)$ is the $(m \\times (d+1))$ dimension design matrix obtained using *poly_transform* function defined earlier and $Y$ are the ground truth labels of dimensions $(m \\times 1)$. \n",
    "\n",
    "Hint: You may want to use [numpy.linalg.inv](https://docs.scipy.org/doc/numpy/reference/generated/numpy.linalg.inv.html) and [numpy.dot](https://docs.scipy.org/doc/numpy/reference/generated/numpy.dot.html)."
   ]
  },
  {
   "cell_type": "code",
   "execution_count": 6,
   "id": "3208b332",
   "metadata": {},
   "outputs": [],
   "source": [
    "def lin_reg_fit(Phi_X,Y):\n",
    "    '''\n",
    "    A function to estimate the linear regression model parameters using the closed form solution.\n",
    "    Inputs:\n",
    "        Phi_X: Design matrix of dimensions (m, (d+1))\n",
    "        Y: ground truth labels of dimensions (m, 1)\n",
    "         \n",
    "    Outputs:\n",
    "        theta: Parameters of linear regression of dimensions ((d+1),1)\n",
    "    '''\n",
    "    # your code here\n",
    "    part1_no_inv = np.matmul(Phi_X.T,Phi_X)\n",
    "    part1 = np.linalg.inv(part1_no_inv)\n",
    "    part2  = np.matmul(Phi_X.T,Y)\n",
    "    theta=np.matmul(part1, part2)\n",
    "    # return theta\n",
    "    return theta\n",
    "    "
   ]
  },
  {
   "cell_type": "code",
   "execution_count": 7,
   "id": "96eb9b3d",
   "metadata": {},
   "outputs": [],
   "source": [
    "# Run this cell to test the function\n",
    "random.seed(1)\n",
    "np.random.seed(1)\n",
    "m1 = 10;\n",
    "d1 = 5;\n",
    "X_t = np.random.randn(m1,1)\n",
    "Y_t = np.random.randn(m1,1)\n",
    "PHI_t = poly_transform(X_t,d1)\n",
    "theta_est = lin_reg_fit(PHI_t,Y_t)"
   ]
  },
  {
   "cell_type": "markdown",
   "id": "81f66b68",
   "metadata": {},
   "source": [
    "### Metrics for Evaluation (10 points)\n",
    "\n",
    "We will evaluate the goodness of our linear regression model using root mean square error. This compares the difference between the estimate Y-labels and the groundth truth Y-labels. The smaller the RMSE value, better is the fit. \n",
    "1. RMSE (Root Mean Squared Error)\n",
    "\\begin{equation*}\n",
    "\\sqrt{\\frac{1}{m}\\sum_{i=1}^{m}(y\\_pred^{(i)} - y^{(i)})^{2} }\n",
    "\\end{equation*}\n",
    "\n",
    "Hint: You may want to use:  \n",
    "[numpy.sqrt](https://numpy.org/doc/stable/reference/generated/numpy.sqrt.html),\n",
    "[numpy.sum](https://docs.scipy.org/doc/numpy/reference/generated/numpy.sum.html) or [numpy.dot](https://docs.scipy.org/doc/numpy/reference/generated/numpy.dot.html)."
   ]
  },
  {
   "cell_type": "code",
   "execution_count": 8,
   "id": "0102352f",
   "metadata": {},
   "outputs": [],
   "source": [
    "def get_rmse(Y_pred,Y):\n",
    "    '''\n",
    "    function to evaluate the goodness of the linear regression model.\n",
    "    \n",
    "    Inputs:\n",
    "        Y_pred: estimated labels of dimensions (m, 1)\n",
    "        Y: ground truth labels of dimensions (m, 1)\n",
    "        \n",
    "    Outputs:\n",
    "        rmse: root means square error\n",
    "    '''\n",
    "    # your code here\n",
    "    part1 = np.subtract(Y_pred, Y)\n",
    "    m = len(Y_pred)\n",
    "    rmse = np.sqrt(np.square(part1).sum()/m)\n",
    "    # return rmse\n",
    "    return rmse"
   ]
  },
  {
   "cell_type": "code",
   "execution_count": 9,
   "id": "9ae238a3",
   "metadata": {},
   "outputs": [],
   "source": [
    "# Run this cell to test the function\n",
    "random.seed(1)\n",
    "np.random.seed(1)\n",
    "m1 = 50\n",
    "Y_Pred_t = np.random.randn(m1,1)\n",
    "Y_t = np.random.randn(m1,1)\n",
    "rmse_est = get_rmse(Y_Pred_t,Y_t)"
   ]
  },
  {
   "cell_type": "markdown",
   "id": "5a98ad8e",
   "metadata": {},
   "source": [
    "Let's visualize the nonlinear regression fit and the RMSE evaluation error on the test data"
   ]
  },
  {
   "cell_type": "code",
   "execution_count": 10,
   "id": "84f75544",
   "metadata": {},
   "outputs": [
    {
     "name": "stdout",
     "output_type": "stream",
     "text": [
      "Train RMSE =  0.513634058973071\n",
      "Test RMSE =  0.5037613976192088\n"
     ]
    },
    {
     "data": {
      "image/png": "[encoded data removed]",
      "text/plain": [
       "<Figure size 640x480 with 1 Axes>"
      ]
     },
     "metadata": {},
     "output_type": "display_data"
    }
   ],
   "source": [
    "d = 20\n",
    "Phi_X_tr = poly_transform(train_X,d)\n",
    "theta = lin_reg_fit(Phi_X_tr,train_Y)\n",
    "#Estimate the prediction on the train data\n",
    "Y_Pred_tr = np.dot(Phi_X_tr,theta)\n",
    "rmse = get_rmse(Y_Pred_tr,train_Y)\n",
    "print('Train RMSE = ', rmse)\n",
    "\n",
    "#Perform the same transform on the test data\n",
    "Phi_X_ts = poly_transform(test_X,d)\n",
    "#Estimate the prediction on the test data\n",
    "Y_Pred_ts = np.dot(Phi_X_ts,theta)\n",
    "#Evaluate the goodness of the fit\n",
    "rmse = get_rmse(Y_Pred_ts,test_Y)\n",
    "print('Test RMSE = ', rmse)\n",
    "\n",
    "import matplotlib.pyplot as plt\n",
    "plt.scatter(test_X,test_Y,marker='o',s=10)\n",
    "# Sampling more points to plot a smooth curve\n",
    "px = np.linspace(-2,2,100).reshape(-1,1)\n",
    "PX = poly_transform(px,d)\n",
    "py = np.dot(PX,theta)\n",
    "plt.xlabel('x')\n",
    "plt.ylabel('y')\n",
    "plt.ylim(-2, 3)\n",
    "plt.plot(px,py,color='red')\n",
    "plt.savefig('graph2.png')"
   ]
  },
  {
   "cell_type": "markdown",
   "id": "df697573",
   "metadata": {},
   "source": [
    "## 2. Ridge Regression \n",
    "\n",
    "The degree of the polynomial regression is $d=10$. Even though the curve appears to be smooth, it may be fitting to the noise. We will use Ridge Regression to get a smoother fit and avoid-overfitting. Recall the ridge regression objective form:\n",
    "\n",
    "\\begin{equation*}\n",
    "    L\\big(\\Phi(X),Y,\\theta, \\lambda\\big) = \\big(Y-\\Phi(X)\\boldsymbol{\\theta}\\big)^\\top \\big(Y-\\Phi(X)\\boldsymbol{\\theta}\\big) + \\lambda^2\\boldsymbol{\\theta}^\\top\\boldsymbol{\\theta}\n",
    "\\end{equation*}\n",
    "where, $\\lambda\\geq 0$ is the regularization parameter. Larger the value of $\\lambda$, the more smooth the curve. The closed form solution to the objective is give by: \n",
    "\n",
    "\\begin{equation*}\n",
    "\\theta = \\big(\\Phi(X)^\\top\\Phi(X) + \\lambda^2I_d \\big)^{-1}\\Phi(X)^\\top Y\n",
    "\\end{equation*}\n",
    "\n",
    "Here, $I_d$ is the identity matrix of dimensions $((d+1) \\times (d+1))$, $\\Phi(X)$ is the $(m \\times (d+1))$ dimension design matrix obtained using *poly_transform* function defined earlier and $Y$ are the ground truth labels of dimensions $(m \\times 1)$. "
   ]
  },
  {
   "cell_type": "markdown",
   "id": "9601f7d9",
   "metadata": {},
   "source": [
    "### Ridge Regression Closed Form Solution (5 points)\n",
    "\n",
    "Similar to Linear regression, lets implement the closed form solution to ridge regression."
   ]
  },
  {
   "cell_type": "code",
   "execution_count": 11,
   "id": "8e51908d",
   "metadata": {},
   "outputs": [],
   "source": [
    "def ridge_reg_fit(Phi_X,Y,lamb_d):\n",
    "    '''\n",
    "    A function to estimate the ridge regression model parameters using the closed form solution.\n",
    "    Inputs:\n",
    "        Phi_X: Design matrix of dimensions (m, (d+1))\n",
    "        Y: ground truth labels of dimensions (m, 1)\n",
    "        lamb_d: regularization parameter\n",
    "         \n",
    "    Outputs:\n",
    "        theta: Parameters of linear regression of dimensions ((d+1),1)\n",
    "    '''\n",
    "    #Step 1: get the dimension dplus1 using Phi_X to create the identity matrix $I_d$\n",
    "    #Step 2: Estimate the closed form solution similar to *linear_reg_fit* but now includethe lamb_d**2*I_d term\n",
    "    \n",
    "    # your code here\n",
    "    m, d = Phi_X.shape\n",
    "    part1 = np.matmul(Phi_X.T,Phi_X)\n",
    "    part2 = np.matmul(Phi_X.T,Y)\n",
    "    lambsqua = np.power(lamb_d,2)\n",
    "    lambwhole = np.dot(lambsqua,np.eye(d))\n",
    "    theta = np.dot(np.linalg.inv(part1 + lambwhole),part2)\n",
    "    #return theta\n",
    "    return theta"
   ]
  },
  {
   "cell_type": "code",
   "execution_count": 12,
   "id": "df2a71ef",
   "metadata": {},
   "outputs": [],
   "source": [
    "# Run this cell to test your function  \n",
    "\n",
    "random.seed(1)\n",
    "np.random.seed(1)\n",
    "m1 = 10;\n",
    "d1 = 5;\n",
    "lamb_d_t = 0.1\n",
    "X_t = np.random.randn(m1,1)\n",
    "Y_t = np.random.randn(m1,1)\n",
    "PHI_t = poly_transform(X_t,d1)\n",
    "theta_est = ridge_reg_fit(PHI_t,Y_t,lamb_d_t)"
   ]
  },
  {
   "cell_type": "markdown",
   "id": "96a379ba",
   "metadata": {},
   "source": [
    "### Cross Validation to Estimate ($\\lambda$)\n",
    "\n",
    "In order to avoid overfitting when using a high degree polynomial, we have used **ridge regression**. We now need to estimate the optimal value of $\\lambda$ using **cross-validation**.\n",
    "\n",
    "We will obtain a generic value of $\\lambda$ using the entire training dataset to validate. We will employ the method of **$k$-fold cross validation**, where we split the training data into $k$ non-overlapping random subsets. In every cycle, for a given value of $\\lambda$, $(k-1)$ subsets are used for training the ridge regression model and the remaining subset is used for evaluating the goodness of the fit. We estimate the average goodness of the fit across all the subsets and select the $lambda$ that results in the best fit.\n",
    "\n",
    "![K-fold cross validation](images/kfold.png)"
   ]
  },
  {
   "cell_type": "markdown",
   "id": "363cca33",
   "metadata": {},
   "source": [
    "It is easier to shuffle the index and slice the training into required number of segments, than processing the complete dataset. The below function **k_val_ind$()$** returns a 2D list of indices by spliting the datapoints into  '$k\\_fold$'  sets\n",
    "\n",
    "Refer the following documentation for splitting and shuffling:\n",
    "\n",
    "- https://docs.scipy.org/doc/numpy-1.15.0/reference/generated/numpy.random.shuffle.html\n",
    "- https://docs.scipy.org/doc/numpy/reference/generated/numpy.split.html\n"
   ]
  },
  {
   "cell_type": "code",
   "execution_count": 13,
   "id": "ba1b4364",
   "metadata": {},
   "outputs": [],
   "source": [
    "def k_val_ind(index,k_fold,seed=1):\n",
    "    '''\n",
    "    Function to split the data into k folds for cross validation. Returns the indices of the data points \n",
    "    belonging to every split.\n",
    "    \n",
    "    Inputs:\n",
    "        index: all the indices of the training\n",
    "        k_fold: number of folds to split the data into\n",
    "    \n",
    "    Outputs:\n",
    "        k_set: list of arrays with indices\n",
    "    ''' \n",
    "    np.random.seed(seed)\n",
    "    np.random.shuffle(index) # Shuffle the indices\n",
    "    k_set = np.split(index,k_fold) # Split the indices into 'k_fold' \n",
    "    return k_set"
   ]
  },
  {
   "cell_type": "markdown",
   "id": "838bba38",
   "metadata": {},
   "source": [
    "### K- Fold Cross Validation (10 Points)\n",
    "\n",
    "Let's now implement $k$-fold cross validation."
   ]
  },
  {
   "cell_type": "code",
   "execution_count": 14,
   "id": "cf82e99a",
   "metadata": {},
   "outputs": [],
   "source": [
    "def k_fold_cv(k_fold,train_X,train_Y,lamb_d,d):\n",
    "    '''\n",
    "    Function to implement k-fold cross validation.\n",
    "    Inputs:\n",
    "        k_fold: number of validation subsests\n",
    "        train_X: training data of dimensions (m, 1) \n",
    "        train_Y: ground truth training labels\n",
    "        lamb_d: ridge regularization lambda parameter\n",
    "        d: polynomial degree\n",
    "        \n",
    "    Outputs:\n",
    "        rmse_list: list of root mean square errors (RMSE) for k_folds \n",
    "    '''\n",
    "    index = np.arange(train_X.shape[0]) # indices of the training data\n",
    "    k_set = k_val_ind(index,k_fold) # pre-defined function to shuffle and split indices \n",
    "\n",
    "    Phi_X = poly_transform(train_X, d) #transform all the data to (m,(d+1)) dimensions\n",
    "    rmse_list = [] \n",
    "    for i in range(k_fold):\n",
    "        ind = np.zeros(train_X.shape[0], dtype=bool) # binary mask\n",
    "        ind[k_set[i]] = True # validation portion is indicated\n",
    "\n",
    "        #Note: Eg. train_X[ind] -> validation set, train_X[~ind] -> training set \n",
    "        # Write your answer inside the 'for' loop\n",
    "        # Note: Phi_X[~ind,:] is training subset and Phi_X[ind,:] is validation subset. Similary for the train and validation labels.\n",
    "        # Step 1: Estimate the theta parameter using ridge_reg_fit with the training subset, training labels and lamb_d\n",
    "        # Step 2: Estimate the prediction Y_pred over the validation as a dot product over Phi_X[ind,:] and theta\n",
    "        # Step 3: use 'get_rmse' function to determine rmse using Y_pred and train_Y[ind]\n",
    "        \n",
    "        # your code here\n",
    "        Phi_X = poly_transform(train_X[~ind],d) \n",
    "        Phi_X_val = poly_transform(train_X[ind],d) \n",
    "        theta = ridge_reg_fit(Phi_X, train_Y[~ind],lamb_d)\n",
    "        \n",
    "        Y_pred = np.dot(Phi_X_val, theta) \n",
    "        rmse=get_rmse(Y_pred,train_Y[ind])\n",
    "        rmse_list.append(rmse)\n",
    "        \n",
    "    return rmse_list"
   ]
  },
  {
   "cell_type": "code",
   "execution_count": 15,
   "id": "8ced96c3",
   "metadata": {},
   "outputs": [],
   "source": [
    "# Run this cell to test the function\n",
    "np.random.seed(1)\n",
    "m1 = 20;\n",
    "d1 = 5;\n",
    "k_fold_t = 5 # number of portions to split the training data\n",
    "lamb_d_t = 0.1\n",
    "X_t = np.random.randn(m1,1)\n",
    "Y_t = np.random.randn(m1,1)\n",
    "\n",
    "rmse_list_est = k_fold_cv(k_fold_t,X_t,Y_t,lamb_d_t,d1)"
   ]
  },
  {
   "cell_type": "markdown",
   "id": "c75149bd",
   "metadata": {},
   "source": [
    "Let us select the value of $\\lambda$ that provides the lowest error based on RMSE returned by the 'k_fold_cv' function.\n",
    "\n",
    "In this example, we will choose the best value of $\\lambda$ among 6 values."
   ]
  },
  {
   "cell_type": "code",
   "execution_count": 16,
   "id": "f0249aa5",
   "metadata": {},
   "outputs": [
    {
     "name": "stdout",
     "output_type": "stream",
     "text": [
      "lambda:0\n",
      "RMSE:  [0.9006072442019392, 0.5994604324421956, 0.4890207345278066, 0.5735790161125889, 0.5778385250430557]\n",
      "*************\n",
      "lambda:0.001\n",
      "RMSE:  [0.9255520584502497, 0.601876815684804, 0.48870216206846856, 0.5708885593319465, 0.578445847591477]\n",
      "*************\n",
      "lambda:0.01\n",
      "RMSE:  [1.0459060774221536, 0.6251810228249165, 0.4933197059851526, 0.5570577128851374, 0.5899592385661795]\n",
      "*************\n",
      "lambda:0.1\n",
      "RMSE:  [0.8261476324642023, 0.646524807784787, 0.4903311825426942, 0.5660953409782714, 0.5945669719328042]\n",
      "*************\n",
      "lambda:1\n",
      "RMSE:  [0.6799665161702088, 0.6886693537583723, 0.5647357353316835, 0.6393075339866027, 0.6470329242394136]\n",
      "*************\n",
      "lambda:10\n",
      "RMSE:  [0.7335261034660037, 0.6993069185624117, 0.755613249446772, 0.7992608695037103, 0.8199075004506737]\n",
      "*************\n",
      "Best value for the regularization parameter(lamb_d): 0.1\n"
     ]
    }
   ],
   "source": [
    "k_fold = 5\n",
    "d = 20\n",
    "l_range = [0,1e-3,1e-2,1e-1,1,10] # The set of lamb_d parameters used for validation.\n",
    "th = float('inf')\n",
    "for lamb_d in l_range:     \n",
    "    print('lambda:'+str(lamb_d))\n",
    "    rmse = k_fold_cv(k_fold,train_X,train_Y,lamb_d,d)\n",
    "    print(\"RMSE: \",rmse)\n",
    "    print(\"*************\")\n",
    "    mean_rmse = np.mean(rmse)\n",
    "    if mean_rmse<th:\n",
    "        th = mean_rmse\n",
    "        l_best = lamb_d\n",
    "\n",
    "print(\"Best value for the regularization parameter(lamb_d):\",l_best)"
   ]
  },
  {
   "cell_type": "markdown",
   "id": "49083c4a",
   "metadata": {},
   "source": [
    "### Evaluation on the Test Set (10 Points)\n",
    "\n",
    "As discussed in previous section, we will present the final evaluation of the model based on the test set."
   ]
  },
  {
   "cell_type": "code",
   "execution_count": 17,
   "id": "d4f2f512",
   "metadata": {},
   "outputs": [
    {
     "name": "stdout",
     "output_type": "stream",
     "text": [
      "RMSE on test set is 0.49850115663643557\n"
     ]
    }
   ],
   "source": [
    "lamb_d = l_best\n",
    "\n",
    "# Step 1: Create Phi_X using 'poly_transform(.)' on the train_X and d=20\n",
    "# Step 2: Estimate theta using ridge_reg_fit(.) with Phi_X, train_Y and the best lambda\n",
    "# Step 3: Create Phi_X_test using 'poly_transform(.)' on the test_X and d=20\n",
    "# Step 4: Estimate the Y_Pred for the test data using Phi_X_test and theta\n",
    "# Step 5: Estimate rmse using get_rmse(.) on the Y_Pred and test_Y \n",
    "\n",
    "# your code here\n",
    "Phi_X_tra = poly_transform(train_X, 20)\n",
    "theta = ridge_reg_fit(Phi_X_tra, train_Y, lamb_d)\n",
    "Phi_X_test = poly_transform(test_X, 20)\n",
    "Y_pred = np.dot(Phi_X_test, theta)\n",
    "rmse = get_rmse(Y_pred, test_Y)\n",
    "print(\"RMSE on test set is \" + str(rmse))"
   ]
  },
  {
   "cell_type": "markdown",
   "id": "ed24cb67",
   "metadata": {},
   "source": [
    "Let's visualize the model's prediction on the test data set."
   ]
  },
  {
   "cell_type": "code",
   "execution_count": 18,
   "id": "81e5ca7f",
   "metadata": {},
   "outputs": [
    {
     "name": "stdout",
     "output_type": "stream",
     "text": [
      "Test RMSE =  0.49850115663643557\n"
     ]
    },
    {
     "data": {
      "image/png": "[encoded data removed]",
      "text/plain": [
       "<Figure size 640x480 with 1 Axes>"
      ]
     },
     "metadata": {},
     "output_type": "display_data"
    }
   ],
   "source": [
    "print('Test RMSE = ', rmse)\n",
    "\n",
    "plt.scatter(test_X,test_Y,marker='o',s=10)\n",
    "# Sampling more points to plot a smooth curve\n",
    "px = np.linspace(-2,2,100).reshape(-1,1)\n",
    "PX = poly_transform(px,d)\n",
    "py = np.dot(PX,theta)\n",
    "plt.xlabel('x')\n",
    "plt.ylabel('y')\n",
    "plt.ylim(-2, 3)\n",
    "plt.plot(px,py,color='red')\n",
    "plt.savefig('graph3.png')"
   ]
  },
  {
   "cell_type": "markdown",
   "id": "5ba4f46a",
   "metadata": {},
   "source": [
    "You have completed linear ridge regression and estimated the best value for the regularization parameter $\\lambda$ using k-fold cross validation. "
   ]
  },
  {
   "cell_type": "markdown",
   "id": "b9adc532",
   "metadata": {},
   "source": [
    "# Section II - Logistic Regression\n",
    "\n",
    "Machine learning is used in medicine for assisting doctors with crucial decision-making based on dignostic data. \n",
    "In this assignment we will be designing a logistic regression model (single layer neural network) to predict if a subject is diabetic or not. The model will classify the subjects into two groups diabetic (Class 1) or non-diabetic (Class 0) - a binary classification model.\n",
    "\n",
    "We will be using the 'Pima Indians Diabetes dataset' to train our model which contains different clinical parameters (features) for multiple subjects along with the label (diabetic or not-diabetic). Each  subject is represented by 8 features (Pregnancies, Glucose, Blood-Pressure, SkinThickness, Insulin, BMI, Diabetes-Pedigree-Function, Age) and the 'Outcome' which is the class label. The dataset contains the results from 768 subjects.\n",
    "\n",
    "We will be spliting the dataset into train and test data. We will train our model on the train data and predict the categories on the test data. "
   ]
  },
  {
   "cell_type": "code",
   "execution_count": 19,
   "id": "62971caa",
   "metadata": {},
   "outputs": [],
   "source": [
    "#importing a few libraries\n",
    "import numpy as np\n",
    "from datasets import pima_data\n",
    "import sys\n",
    "import matplotlib.pyplot as plt\n",
    "import numpy.testing as npt"
   ]
  },
  {
   "cell_type": "markdown",
   "id": "615a5e0d",
   "metadata": {},
   "source": [
    "## 1. Load Data, Visualize and Normalize\n",
    "\n",
    "Let us load the training and test data."
   ]
  },
  {
   "cell_type": "code",
   "execution_count": 20,
   "id": "ee83a7fc",
   "metadata": {},
   "outputs": [
    {
     "name": "stdout",
     "output_type": "stream",
     "text": [
      "train_X.shape =  (500, 8)\n",
      "train_Y.shape =  (500,)\n",
      "test_X.shape =  (268, 8)\n",
      "test_Y.shape =  (268,)\n",
      "\n",
      "Few Train data examples\n",
      "[[6.000e+00 1.480e+02 7.200e+01 3.500e+01 0.000e+00 3.360e+01 6.270e-01\n",
      "  5.000e+01]\n",
      " [1.000e+00 8.500e+01 6.600e+01 2.900e+01 0.000e+00 2.660e+01 3.510e-01\n",
      "  3.100e+01]\n",
      " [8.000e+00 1.830e+02 6.400e+01 0.000e+00 0.000e+00 2.330e+01 6.720e-01\n",
      "  3.200e+01]\n",
      " [1.000e+00 8.900e+01 6.600e+01 2.300e+01 9.400e+01 2.810e+01 1.670e-01\n",
      "  2.100e+01]\n",
      " [0.000e+00 1.370e+02 4.000e+01 3.500e+01 1.680e+02 4.310e+01 2.288e+00\n",
      "  3.300e+01]]\n",
      "\n",
      "Few Train data labels\n",
      "[1. 0. 1. 0. 1.]\n"
     ]
    }
   ],
   "source": [
    "train_X,train_Y,test_X,test_Y  = pima_data()\n",
    "\n",
    "print('train_X.shape = ', train_X.shape)\n",
    "print('train_Y.shape = ', train_Y.shape)\n",
    "print('test_X.shape = ', test_X.shape)\n",
    "print('test_Y.shape = ', test_Y.shape)\n",
    "\n",
    "# Lets examine the data\n",
    "print('\\nFew Train data examples')\n",
    "print(train_X[:5, :])\n",
    "print('\\nFew Train data labels')\n",
    "print(train_Y[:5])"
   ]
  },
  {
   "cell_type": "code",
   "execution_count": 21,
   "id": "604c3395",
   "metadata": {},
   "outputs": [
    {
     "name": "stdout",
     "output_type": "stream",
     "text": [
      "train_X.shape =  (8, 500)\n",
      "train_Y.shape =  (1, 500)\n",
      "test_X.shape =  (8, 268)\n",
      "test_Y.shape =  (1, 268)\n",
      "\n",
      "Few Train data examples\n",
      "[[0.35294118 0.05882353 0.47058824 0.05882353 0.        ]\n",
      " [0.74371859 0.42713568 0.91959799 0.44723618 0.68844221]\n",
      " [0.59016393 0.54098361 0.52459016 0.54098361 0.32786885]\n",
      " [0.35353535 0.29292929 0.         0.23232323 0.35353535]\n",
      " [0.         0.         0.         0.11111111 0.19858156]\n",
      " [0.50074516 0.39642325 0.34724292 0.41877794 0.64232489]\n",
      " [0.25909091 0.14504132 0.27768595 0.06900826 0.94545455]\n",
      " [0.61728395 0.38271605 0.39506173 0.25925926 0.40740741]]\n",
      "\n",
      "Few Train data labels\n",
      "[1. 0. 1. 0. 1.]\n"
     ]
    }
   ],
   "source": [
    "# We notice the data is not normalized. Lets do a simple normalization scaling to data between 0 and 1\n",
    "# Normalized data is easier to train using large learning rates\n",
    "train_X = np.nan_to_num(train_X/train_X.max(axis=0))\n",
    "test_X = np.nan_to_num(test_X/test_X.max(axis=0))\n",
    "\n",
    "#Lets reshape the data so it matches our notation from the lecture. \n",
    "#train_X should be (d, m) and train_Y should (1,m) similarly for test_X and test_Y\n",
    "train_X = train_X.T\n",
    "train_Y= train_Y.reshape(1,-1)\n",
    "\n",
    "test_X = test_X.T\n",
    "test_Y= test_Y.reshape(1,-1)\n",
    "print('train_X.shape = ', train_X.shape)\n",
    "print('train_Y.shape = ', train_Y.shape)\n",
    "print('test_X.shape = ', test_X.shape)\n",
    "print('test_Y.shape = ', test_Y.shape)\n",
    "\n",
    "# Lets examine the data and verify it is normalized\n",
    "print('\\nFew Train data examples')\n",
    "print(train_X[:, :5])\n",
    "print('\\nFew Train data labels')\n",
    "print(train_Y[0,:5])"
   ]
  },
  {
   "cell_type": "code",
   "execution_count": 22,
   "id": "ffb95e2a",
   "metadata": {},
   "outputs": [
    {
     "data": {
      "image/png": "[encoded data removed]",
      "text/plain": [
       "<Figure size 640x480 with 1 Axes>"
      ]
     },
     "metadata": {},
     "output_type": "display_data"
    }
   ],
   "source": [
    "#There are 8 features for each of the data points. Lets plot the data using a couple of features\n",
    "fig, ax = plt.subplots()\n",
    "plt.scatter(train_X[6,:],train_X[7,:], c=train_Y[0])\n",
    "plt.xlabel('Diabetes-Pedigree-Function')\n",
    "plt.ylabel('Age')\n",
    "plt.savefig('graph4.png')\n",
    "# We have plotted train_X[6,:],train_X[7,:]. \n",
    "# Feel free to insert your own cells to plot and visualize different variable pairs. "
   ]
  },
  {
   "cell_type": "markdown",
   "id": "81fdf232",
   "metadata": {},
   "source": [
    "## 2. Quick Review of the Steps Involved in Logistic Regression Using Gradient Descent.\n",
    "\n",
    "1. Training data $X$ is of dimensions $(d \\times m)$ where $d$ is number of features and $m$ is number of samples. Training labels $Y$ is of dimensions $(1 \\times m)$. \n",
    "\n",
    "2. Initilaize logistic regression model parameters $w$ and $b$ where $w$ is of dimensions $(d, 1)$ and $b$ is a scalar. $w$ is initialized to small random values and $b$ is set to zero\n",
    "\n",
    "3. Calculate $Z$ using $X$ and intial parameter values $(w , b)$ \n",
    "<center> \n",
    "    \\begin{equation*}\n",
    "     Z= w^\\top X + b\n",
    "    \\end{equation*}\n",
    "</center>\n",
    "\n",
    "4. Apply the sigmoid activation to estimate $A$ on $Z$,\n",
    "<center> \n",
    "    \\begin{equation*}\n",
    "     A=\\frac{1}{1+\\text{exp}(-Z)}\n",
    "    \\end{equation*}\n",
    "</center>\n",
    "\n",
    "5. Calculate the loss $L()$ between predicted probabilities $A$ and groundtruth labels $Y$,\n",
    "<center> \n",
    "    \\begin{equation*}\n",
    "     loss = logistic\\_loss(A,Y)\n",
    "    \\end{equation*}\n",
    "</center>\n",
    "\n",
    "4. Calculate gradient dZ (or $\\frac{dL}{dZ}$),\n",
    "<center> \n",
    "    \\begin{equation*}\n",
    "     dZ = (A - Y)\n",
    "    \\end{equation*}\n",
    "</center>\n",
    "\n",
    "5. Calculate gradients $\\frac{dL}{dw}$ represented by $dw$, $\\frac{dL}{db}$ represented by $db$\n",
    "<center> \n",
    "    \\begin{equation*}\n",
    "     dw,db = grad\\_fn(X ,dZ)\n",
    "    \\end{equation*}\n",
    "</center>\n",
    "6. Adjust the model parameters using the gradients. Here $\\alpha$ is the learning rate.\n",
    "<center> \n",
    "    \\begin{equation*}\n",
    "     w := w - \\alpha.dw\\\\\n",
    "     b := b - \\alpha.db\n",
    "    \\end{equation*}\n",
    "</center>\n",
    "7. Loop until the loss converges or for a fixed number of epochs. \n",
    "We will first define the functions **logistic_loss()** and **grad_fn()** along with other functions below. "
   ]
  },
  {
   "cell_type": "markdown",
   "id": "49be6a77",
   "metadata": {},
   "source": [
    "# Review\n",
    "\n",
    "![Lecture Notes](images/lecture_notes.png)"
   ]
  },
  {
   "cell_type": "markdown",
   "id": "264f5cb2",
   "metadata": {},
   "source": [
    "### Intialize Parameters (5 Points)\n",
    "\n",
    "we will initialize the model parameters. The weights will be initialized with small random values and bias as 0. While the bias will be a scalar, the dimension of weight vector will be $(d \\times 1)$, where $d$ is the number of features.\n",
    "\n",
    "\n",
    "Hint:[np.random.randn](https://docs.scipy.org/doc/numpy-1.15.1/reference/generated/numpy.random.randn.html) can be used here to create a vector of random integers of desired shape."
   ]
  },
  {
   "cell_type": "code",
   "execution_count": 23,
   "id": "121e9513",
   "metadata": {},
   "outputs": [],
   "source": [
    "def initialize(d, seed=1):\n",
    "    '''\n",
    "    Function to initialize the parameters for the logisitic regression model\n",
    "    \n",
    "    Inputs:\n",
    "        d: number of features for every data point\n",
    "        seed: random generator seed for reproducing the results\n",
    "        \n",
    "    Outputs:\n",
    "        w: weight vector of dimensions (d, 1)\n",
    "        b: scalar bias value\n",
    "    '''\n",
    "    np.random.seed(seed)\n",
    "    \n",
    "    # NOTE: initialize w to be a (d,1) column vector instead of (d,) vector \n",
    "    # Hint: initialize w to a random vector with small values. For example, 0.01*np.random.randn(.) can be used.\n",
    "    #       and initialize b to scalar 0\n",
    "    \n",
    "    # your code here \n",
    "    w = np.random.randn(d,1)  \n",
    "    b = 0.0\n",
    "    #return w,b\n",
    "    return w,b"
   ]
  },
  {
   "cell_type": "markdown",
   "id": "e3b74ce4",
   "metadata": {},
   "source": [
    "### Sigmoid Function (5 Points)\n",
    "\n",
    "Let's now implement Sigmoid activation function.\n",
    "\n",
    "<center> \n",
    "    \\begin{equation*}\n",
    "    \\sigma \\left(z\\right) = \\frac{1}{1+\\text{exp}(-z)}\n",
    "    \\end{equation*}\n",
    "</center>\n",
    "\n",
    "where z is in the input variable.\n",
    "Hint: [numpy.exp](https://docs.scipy.org/doc/numpy/reference/generated/numpy.exp.html) can be used for defining the exponential function."
   ]
  },
  {
   "cell_type": "code",
   "execution_count": 24,
   "id": "9bc5cd3e",
   "metadata": {},
   "outputs": [],
   "source": [
    "def sigmoid(z):\n",
    "    # your code here\n",
    "    A = 1/(1 + np.exp(-z))\n",
    "    # return A\n",
    "    return A"
   ]
  },
  {
   "cell_type": "markdown",
   "id": "b81e10a1",
   "metadata": {},
   "source": [
    "### Logistic Loss Function (5 Points)\n",
    "\n",
    "We will define the objective function that will be used later for determining the loss between the model prediction and groundtruth labels. We will use vectors $A$ (activation output of the logistic neuron) and $Y$ (groundtruth labels) for defining the loss. \n",
    "\n",
    "<center> \n",
    "    \\begin{equation*}\n",
    "    L(A,Y) = -\\frac{1}{m}\\sum_{i =1}^{m}y^{(i)}\\text{log} a^{(i)} + (1-y^{(i)}) \\text{log}( 1 - a^{(i)})\n",
    "    \\end{equation*}\n",
    "</center>\n",
    "\n",
    "where $m$ is the number of input datapoints and is used for averaging the total loss.\n",
    "Hint: [numpy.sum](https://docs.scipy.org/doc/numpy/reference/generated/numpy.sum.html) and [numpy.log](https://docs.scipy.org/doc/numpy/reference/generated/numpy.log.html)."
   ]
  },
  {
   "cell_type": "code",
   "execution_count": 25,
   "id": "0ee51c36",
   "metadata": {},
   "outputs": [],
   "source": [
    "def logistic_loss(A,Y):\n",
    "    '''\n",
    "    Function to calculate the logistic loss given the predictions and the targets.\n",
    "    \n",
    "    Inputs:\n",
    "        A: Estimated prediction values, A is of dimension (1, m)\n",
    "        Y: groundtruth labels, Y is of dimension (1, m)\n",
    "        \n",
    "    Outputs:\n",
    "        loss: logistic loss\n",
    "    '''\n",
    "    a = A.shape[1]\n",
    "    # your code here\n",
    "    loss = - 1/a * np.sum((Y * np.log(A) + (1 - Y) * np.log(1 - A)))\n",
    "    #return loss\n",
    "    return loss"
   ]
  },
  {
   "cell_type": "markdown",
   "id": "dd3b543d",
   "metadata": {},
   "source": [
    "### Gradient Function (5 Points)\n",
    "\n",
    "Let us define the gradient function for calculating the gradients ($\\frac{dL}{dw},\\frac{dL}{db}$). We will use it during gradient descent.\n",
    "\n",
    "The gradients can be calculated as,\n",
    "<center> \n",
    "    \\begin{equation*}\n",
    "    dw = \\frac{1}{m}X( A- Y)^{T}\\\\\n",
    "    db = \\frac{1}{m}\\sum_{i =1}^{m} (a^{(i)} - y^{(i)})\n",
    "    \\end{equation*}\n",
    "</center>\n",
    "\n",
    "Instead of $(A-Y)$, we will use dZ (or $\\frac{dL}{dZ}$) since,\n",
    "<center> \n",
    "    \\begin{equation*}\n",
    "    dZ = \\left( A- Y\\right)\n",
    "    \\end{equation*}\n",
    "</center>\n",
    "Make sure the gradients are of correct dimensions. Refer to lecture for more information.\n",
    "\n",
    "Hint: [numpy.dot](https://docs.scipy.org/doc/numpy/reference/generated/numpy.dot.html) and\n",
    "[numpy.sum](https://docs.scipy.org/doc/numpy/reference/generated/numpy.sum.html). Check use of 'keepdims' parameter."
   ]
  },
  {
   "cell_type": "code",
   "execution_count": 26,
   "id": "65538ef4",
   "metadata": {},
   "outputs": [],
   "source": [
    "def grad_fn(X,dZ):\n",
    "    '''\n",
    "    Function to calculate the gradients of weights (dw) and biases (db) w.r.t the objective function L.\n",
    "    \n",
    "    Inputs:\n",
    "        X: training data of dimensions (d, m)\n",
    "        dZ: gradient dL/dZ where L is the logistic loss and Z = w^T*X+b is the input to the sigmoid activation function\n",
    "            dZ is of dimensions (1, m)\n",
    "        \n",
    "    outputs:\n",
    "        dw: gradient dL/dw - gradient of the weight w.r.t. the logistic loss. It is of dimensions (d,1)\n",
    "        db: gradient dL/db - gradient of the bias w.r.t. the logistic loss. It is a scalar\n",
    "    '''\n",
    "    m = X.shape[1]\n",
    "    # your code her\n",
    "    dw = 1/m * np.dot(X, dZ.T)\n",
    "    db = np.reshape(1/m * np.sum(dZ), (1,1))\n",
    "    # return dw,db\n",
    "    return dw,db"
   ]
  },
  {
   "cell_type": "markdown",
   "id": "33772b9d",
   "metadata": {},
   "source": [
    "### Training the Model (10 Points)\n",
    "\n",
    "We will now implement the steps for gradient descent discussed earlier."
   ]
  },
  {
   "cell_type": "code",
   "execution_count": 27,
   "id": "a7708e64",
   "metadata": {},
   "outputs": [],
   "source": [
    "def model_fit(w,b,X,Y,alpha,n_epochs,log=False):\n",
    "    '''\n",
    "    Function to fit a logistic model with the parameters w,b to the training data with labels X and Y.\n",
    "    \n",
    "    Inputs:\n",
    "        w: weight vector of dimensions (d, 1)\n",
    "        b: scalar bias value\n",
    "        X: training data of dimensions (d, m)\n",
    "        Y: training data labels of dimensions (1, m)\n",
    "        alpha: learning rate\n",
    "        n_epochs: number of epochs to train the model\n",
    "        \n",
    "    Outputs:\n",
    "        params: a dictionary to hold parameters w and b\n",
    "        losses: a list train loss at every epoch\n",
    "    '''\n",
    "    nw=w\n",
    "    nb=b\n",
    "    losses=[]\n",
    "    for epoch in range(n_epochs):\n",
    "        \n",
    "        # Implement the steps in the logistic regression using the functions defined earlier.\n",
    "        # For each iteration of the for loop\n",
    "            # Step 1: Calculate output Z = w.T*X + b\n",
    "            # Step 2: Apply sigmoid activation: A = sigmoid(Z)\n",
    "            # Step 3: Calculate loss = logistic_loss(.) between predicted values A and groundtruth labels Y\n",
    "            # Step 4: Estimate gradient dZ = A-Y\n",
    "            # Step 5: Estimate gradients dw and db using grad_fn(.).\n",
    "            # Step 6: Update parameters w and b using gradients dw, db and learning rate\n",
    "            #         w = w - alpha * dw\n",
    "            #         b = b - alpha * db\n",
    "\n",
    "       # your code here\n",
    "        Z = np.matmul(nw.T, X) + nb \n",
    "        A = sigmoid(Z)\n",
    "        loss = logistic_loss(A,Y)\n",
    "        dZ = (A-Y)\n",
    "        dw, db = grad_fn(X,dZ) \n",
    "        nw = nw - alpha * dw\n",
    "        nb = nb - alpha * db\n",
    "        if epoch%100 == 0:\n",
    "            losses.append(loss)\n",
    "            if log == True:\n",
    "                print(\"%i iter: loss = %f\"%(epoch,loss))\n",
    "    params ={\"w\":nw,\"b\":nb}\n",
    "    \n",
    "    return params,losses    "
   ]
  },
  {
   "cell_type": "markdown",
   "id": "0a87b507",
   "metadata": {},
   "source": [
    "### Model Prediction (10 Points)\n",
    "\n",
    "Once we have the optimal values of model parameters $(w,b)$, we can determine the accuracy of the model on the test data.\n",
    "\n",
    "\\begin{equation*}\n",
    "Z = w^{T}X + b\n",
    "\\end{equation*}\n",
    "\n",
    "\\begin{equation*}\n",
    "A=\\sigma\\left(Z\\right)  \n",
    "\\end{equation*}\n"
   ]
  },
  {
   "cell_type": "code",
   "execution_count": 28,
   "id": "e7bda9c2",
   "metadata": {},
   "outputs": [],
   "source": [
    "def model_predict(params,X,Y=np. array([]),pred_threshold=0.5):\n",
    "    '''\n",
    "    Function to calculate category predictions on given data and returns the accuracy of the predictions.\n",
    "    Inputs:\n",
    "        params: a dictionary to hold parameters w and b\n",
    "        X: training data of dimensions (d, m)\n",
    "        Y: training data labels of dimensions (1, m). If not provided, the function merely makes predictions on X\n",
    "        \n",
    "    outputs:\n",
    "        Y_Pred: Predicted class labels for X. Has dimensions (1, m)\n",
    "        acc: accuracy of prediction over X if Y is provided else, 0 \n",
    "        loss: loss of prediction over X if Y is provided else, Inf  \n",
    "    '''\n",
    "    w = params['w']\n",
    "    b = params['b']\n",
    "    m = X.shape[1]\n",
    "    \n",
    "    # Calculate Z using X, w and b\n",
    "    # Calculate A using the sigmoid - A is the set of (1,m) probabilities\n",
    "    # Calculate the prediction labels Y_Pred of size (1,m) using A and pred_threshold \n",
    "    # When A>pred_threshold Y_Pred is 1 else 0\n",
    "    \n",
    "    # your code here\n",
    "    nZ = np.matmul(w.T, X) + b\n",
    "    nA = sigmoid(nZ) \n",
    "    nY_Pred=np.zeros((1,m))\n",
    "    for i in range(m):\n",
    "        if nA[0][i]>pred_threshold:\n",
    "            nY_Pred[0][i] = 1 \n",
    "        else:\n",
    "            nY_Pred[0][i]= 0 \n",
    "    if len(Y)==0:\n",
    "        loss = float('inf')\n",
    "        acc = 0\n",
    "    if Y.size!=0:\n",
    "        loss = logistic_loss(nA,Y)\n",
    "        acc = np.mean(nY_Pred==Y)\n",
    "    return nY_Pred, acc, loss"
   ]
  },
  {
   "cell_type": "markdown",
   "id": "63d71ce7",
   "metadata": {},
   "source": [
    "## 3. Putting it All Together (10 Points)\n",
    "\n",
    "We will train our logistic regression model using the data we have loaded and test our predictions on diabetes classification."
   ]
  },
  {
   "cell_type": "code",
   "execution_count": 29,
   "id": "da8730af",
   "metadata": {
    "scrolled": true,
    "tags": [
     "remove_cell"
    ]
   },
   "outputs": [
    {
     "name": "stdout",
     "output_type": "stream",
     "text": [
      "0 iter: loss = 0.765411\n",
      "100 iter: loss = 0.652098\n",
      "200 iter: loss = 0.631494\n",
      "300 iter: loss = 0.613999\n",
      "400 iter: loss = 0.599052\n",
      "500 iter: loss = 0.586199\n",
      "600 iter: loss = 0.575075\n",
      "700 iter: loss = 0.565386\n",
      "800 iter: loss = 0.556895\n",
      "900 iter: loss = 0.549412\n",
      "1000 iter: loss = 0.542782\n",
      "1100 iter: loss = 0.536880\n",
      "1200 iter: loss = 0.531601\n",
      "1300 iter: loss = 0.526861\n",
      "1400 iter: loss = 0.522589\n",
      "1500 iter: loss = 0.518725\n",
      "1600 iter: loss = 0.515219\n",
      "1700 iter: loss = 0.512028\n",
      "1800 iter: loss = 0.509117\n",
      "1900 iter: loss = 0.506453\n",
      "Train Accuracy of the model: 0.77\n",
      "Test Accuracy of the model: 0.7611940298507462\n"
     ]
    },
    {
     "data": {
      "image/png": "[encoded data removed]",
      "text/plain": [
       "<Figure size 640x480 with 1 Axes>"
      ]
     },
     "metadata": {},
     "output_type": "display_data"
    }
   ],
   "source": [
    "#We can use a decently large learning rate becasue the features have been normalized \n",
    "#When features are not normalized, larger learning rates may cause the learning to oscillate \n",
    "#and go out of bounds leading to 'nan' errors\n",
    "#Feel free to adjust the learning rate alpha and the n_epochs to vary the test accuracy\n",
    "#You should be able to get test accuracy > 70%\n",
    "#You can go up to 75% to 80% test accuracies as well\n",
    "\n",
    "alpha = 0.2\n",
    "n_epochs = 2000\n",
    "\n",
    "# Write code to initialize parameters w and b with initialize(.) (use train_X to get feature dimensions d)\n",
    "# Use model_fit(.) to estimate the updated 'params' of the logistic regression model and calculate how the 'losses' varies \n",
    "# Use variables 'params' and 'losses' to store the outputs of model_fit(.) \n",
    "\n",
    "# your code here\n",
    "w,b = initialize(train_X.shape[0])\n",
    "params,losses = model_fit(w,b,train_X,train_Y,alpha,n_epochs,log=True)\n",
    "\n",
    "Y_Pred_tr, acc_tr, loss_tr = model_predict(params,train_X,train_Y)\n",
    "Y_Pred_ts, acc_ts, loss_ts = model_predict(params,test_X,test_Y)\n",
    "print(\"Train Accuracy of the model:\",acc_tr)\n",
    "print(\"Test Accuracy of the model:\",acc_ts)\n",
    "import matplotlib.pyplot as plt\n",
    "plt.plot(losses)\n",
    "plt.xlabel('Iterations(x100)')\n",
    "plt.ylabel('Train loss')\n",
    "plt.savefig('graph5.png')"
   ]
  }
 ],
 "metadata": {
  "kernelspec": {
   "display_name": "Python [conda env:extra]",
   "language": "python",
   "name": "conda-env-extra-py"
  },
  "language_info": {
   "codemirror_mode": {
    "name": "ipython",
    "version": 3
   },
   "file_extension": ".py",
   "mimetype": "text/x-python",
   "name": "python",
   "nbconvert_exporter": "python",
   "pygments_lexer": "ipython3",
   "version": "3.12.2"
  }
 },
 "nbformat": 4,
 "nbformat_minor": 5
}
